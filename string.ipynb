{
 "cells": [
  {
   "cell_type": "markdown",
   "metadata": {},
   "source": [
    "# Post-string method"
   ]
  },
  {
   "cell_type": "markdown",
   "metadata": {},
   "source": [
    "Author: Rikuri Morita (morita@ccs.tsukuba.ac.jp)\n",
    "\n",
    "Last update: 2020-12-24"
   ]
  },
  {
   "cell_type": "markdown",
   "metadata": {},
   "source": [
    "## Requirement (validated version)\n",
    "- Python 3.x (3.7.8)\n",
    " - matplotlib (3.3.1)\n",
    " - pyEMMA (2.5.7)\n",
    " - numpy (1.19.1)\n",
    " - tqdm (4.48.2)\n",
    "\n",
    "\n",
    "- a date file cotaining the x and y coordinate and weight (space separated).\n",
    "\n",
    "x<sub>1</sub> y<sub>1</sub> weight<sub>1</sub>  \n",
    "x<sub>2</sub> y<sub>2</sub> weight<sub>2</sub>  \n",
    "....  \n",
    "x<sub>n</sub> y<sub>n</sub> weight<sub>n</sub>  \n"
   ]
  },
  {
   "cell_type": "markdown",
   "metadata": {},
   "source": [
    "## Variable parameters\n",
    "\n",
    "1. Coordinates of the initial path:  initial_pc1, initial_pc2\n",
    "1. Number of the beads: point_num=200\n",
    "1. Is the terminal fixed?: is_fixed_terminal=0 (no)\n",
    "1. Number of the cycles: cycle=30\n",
    "1. Number of the neighbors:  n_neighbors=500\n",
    "1. How often plot the string?: skip=10\n",
    "1. Resolution of the free energy along the MFEP:  mfep_bin=100"
   ]
  },
  {
   "cell_type": "markdown",
   "metadata": {
    "scrolled": false
   },
   "source": [
    "# Import libraries"
   ]
  },
  {
   "cell_type": "code",
   "execution_count": null,
   "metadata": {},
   "outputs": [],
   "source": [
    "import pyemma\n",
    "import matplotlib\n",
    "import matplotlib.pyplot as plt\n",
    "import matplotlib.cm as cm\n",
    "import numpy as np\n",
    "import pyemma.plots as mplt\n",
    "from tqdm.notebook import tqdm"
   ]
  },
  {
   "cell_type": "markdown",
   "metadata": {},
   "source": [
    "# Load data set"
   ]
  },
  {
   "cell_type": "code",
   "execution_count": null,
   "metadata": {
    "scrolled": true
   },
   "outputs": [],
   "source": [
    "all_data = np.loadtxt(\"post-string-input.xvg\")\n",
    "np.shape(all_data)"
   ]
  },
  {
   "cell_type": "code",
   "execution_count": null,
   "metadata": {},
   "outputs": [],
   "source": [
    "xall = np.vstack(all_data)[:,0]\n",
    "yall = np.vstack(all_data)[:,1]\n",
    "W = np.vstack(all_data)[:,2]"
   ]
  },
  {
   "cell_type": "code",
   "execution_count": null,
   "metadata": {
    "scrolled": false
   },
   "outputs": [],
   "source": [
    "matplotlib.rcParams.update({'font.size': 12})\n",
    "matplotlib.rcParams.update({'figure.figsize': [5, 4]})\n",
    "mplt.plot_free_energy(xall, yall, weights=W, levels=20,cmap=\"viridis\")\n",
    "#plt.xlim(-70,60)\n",
    "#plt.ylim(-15,20)\n",
    "plt.xlabel(\"PC1 (Å)\")\n",
    "plt.ylabel(\"PC2 (Å)\")\n",
    "plt.tight_layout()\n",
    "#plt.savefig(\"String_FEL.png\", dpi=300)"
   ]
  },
  {
   "cell_type": "markdown",
   "metadata": {},
   "source": [
    "# Definition of the functions"
   ]
  },
  {
   "cell_type": "code",
   "execution_count": null,
   "metadata": {},
   "outputs": [],
   "source": [
    "def re_point(current):\n",
    "    next_pos = current.copy()\n",
    "    \n",
    "    path_length = []\n",
    "    total_length = 0\n",
    "    for i in range(len(current)-1):\n",
    "        d = np.linalg.norm(current[i]-current[i+1])\n",
    "        path_length.append(d)\n",
    "        total_length += d\n",
    "    part_length = total_length/(len(current)-1)\n",
    "    #print(\"Total length\", total_length)\n",
    "    current_old_pos = 0\n",
    "\n",
    "    for i in range(1, len(current)-1):\n",
    "        summing = 0\n",
    "        position = 0\n",
    "        while (summing < part_length*i):\n",
    "            summing += path_length[position]\n",
    "            position += 1\n",
    "        diff = part_length*i - sum(path_length[0:position-1])\n",
    "        next_pos[i] = current[position-1]  + (current[position]-current[position-1])*(diff/path_length[position-1])\n",
    "    return next_pos, total_length"
   ]
  },
  {
   "cell_type": "code",
   "execution_count": null,
   "metadata": {},
   "outputs": [],
   "source": [
    "from sklearn.neighbors import NearestNeighbors\n",
    "\n",
    "def get_com(data, coord):\n",
    "    neigh = NearestNeighbors(n_neighbors=500, radius=0.4)\n",
    "    neigh.fit(data[::1])\n",
    "    nbrs = neigh.kneighbors( [[coord[0],coord[1]]], return_distance=False)\n",
    "    return np.average(data[::1][nbrs[0]], axis=0)"
   ]
  },
  {
   "cell_type": "code",
   "execution_count": null,
   "metadata": {},
   "outputs": [],
   "source": [
    "from sklearn.neighbors import NearestNeighbors\n",
    "\n",
    "def get_weighted_com(data, coord, weight, n_neighbors=500):\n",
    "    neigh = NearestNeighbors(n_neighbors=n_neighbors, radius=0.4)\n",
    "    neigh.fit(data[::1])\n",
    "    nbrs = neigh.kneighbors( [[coord[0],coord[1]]], return_distance=False)\n",
    "    return np.average(data[::1][nbrs[0]], axis=0, weights=weight[nbrs[0]])"
   ]
  },
  {
   "cell_type": "markdown",
   "metadata": {},
   "source": [
    "# Initial path setup（point_num=200, initial_pc1, initial_pc2）"
   ]
  },
  {
   "cell_type": "code",
   "execution_count": null,
   "metadata": {
    "scrolled": true
   },
   "outputs": [],
   "source": [
    "point_num = 200\n",
    "initial_pc1 = np.linspace(-4, 3, point_num)\n",
    "initial_pc2 = np.linspace(0, 0, point_num) \n",
    "\n",
    "initial = np.array([[pc1,pc2] for pc1, pc2 in zip(initial_pc1, initial_pc2)], dtype = 'float64')\n",
    "data_reduce = 100\n",
    "plt.scatter(xall[::data_reduce], yall[::data_reduce],color='r',marker='.',s=0.1)\n",
    "plt.scatter(initial[:,0], initial[:,1],color='b',marker='+')"
   ]
  },
  {
   "cell_type": "markdown",
   "metadata": {},
   "source": [
    "# Performance of the cycle and plot（is_not_shrink=0, cycle=30, n_neighbors=500）"
   ]
  },
  {
   "cell_type": "code",
   "execution_count": null,
   "metadata": {
    "scrolled": false
   },
   "outputs": [],
   "source": [
    "from matplotlib.animation import FuncAnimation\n",
    "from IPython.display import HTML\n",
    "import copy\n",
    "\n",
    "global current\n",
    "current = initial.copy()\n",
    "fig = plt.figure(figsize=(5,4))\n",
    "total_lengths = []\n",
    "timeseries = [initial.copy()]\n",
    "\n",
    "def init():\n",
    "    data_reduce = 100\n",
    "    plt.scatter(xall[::data_reduce], yall[::data_reduce],color='r',marker='.', s=0.1)\n",
    "    plt.plot(current[:,0], current[:,1],color='b',marker='.', linewidth=1, markersize=5)\n",
    "    plt.xlabel(\"PC1 (Å)\")\n",
    "    plt.ylabel(\"PC2 (Å)\")\n",
    "    \n",
    "def update(frame):\n",
    "    global current, total_lengths\n",
    "    data_reduce = 100\n",
    "    plt.cla()\n",
    "    plt.scatter(xall[::data_reduce], yall[::data_reduce],color='r',marker='.', s=0.1)\n",
    "    plt.plot(current[:,0], current[:,1],color='b',marker='.', linewidth=1, markersize=5)\n",
    "    next_pos  = copy.deepcopy(current)\n",
    "    #plt.annotate(f\"frame: {frame}\", xy=(-10,10))\n",
    "    \n",
    "    is_fixed_terminal = 0 # if fixed 1, not fixed 0\n",
    "    for pos in range(is_fixed_terminal,len(current)-is_fixed_terminal):\n",
    "        next_pos[pos] = get_weighted_com(np.array([xall, yall], dtype = 'float64').T[::data_reduce], current[pos], W[::data_reduce], n_neighbors=500)\n",
    "    current, t = re_point(next_pos)\n",
    "    timeseries.append(current)\n",
    "    total_lengths.append(t)\n",
    "\n",
    "cycle = 30\n",
    "ani = FuncAnimation(fig, update, frames=tqdm(range(cycle+1)), init_func=init,  interval=1000)\n",
    "# If you save .gif file, you need to comment out \"HTML(ani.to_jshtml())\" line.\n",
    "#ani.save(\"String_animation.gif\", writer = 'pillow',dpi=300)\n",
    "HTML(ani.to_jshtml())"
   ]
  },
  {
   "cell_type": "markdown",
   "metadata": {},
   "source": [
    "# Plot the convergence of the string length"
   ]
  },
  {
   "cell_type": "code",
   "execution_count": null,
   "metadata": {
    "scrolled": true
   },
   "outputs": [],
   "source": [
    "fig = plt.figure(figsize=(6,3))\n",
    "plt.plot(total_lengths, linewidth=2, marker=\".\", markersize=10)\n",
    "plt.xlabel(\"Cycle\")\n",
    "plt.ylabel(\"Length\")\n",
    "plt.xticks([i for i in range(0,cycle+1,1) if i%2 ==0 ],[i for i in range(0,cycle+1,1) if i%2 ==0 ])\n",
    "\n",
    "plt.xlim(0,cycle)\n",
    "plt.tight_layout()\n",
    "plt.savefig(\"String_converge.png\", dpi=300)"
   ]
  },
  {
   "cell_type": "markdown",
   "metadata": {},
   "source": [
    "# Plot transition of the string（skip=10）"
   ]
  },
  {
   "cell_type": "code",
   "execution_count": null,
   "metadata": {
    "scrolled": false
   },
   "outputs": [],
   "source": [
    "from matplotlib.colors import ListedColormap, BoundaryNorm, rgb2hex\n",
    "fig = plt.figure(figsize=(7,4))\n",
    "ax = plt.subplot()\n",
    "mplt.plot_free_energy(xall, yall, weights=W, levels=20,cmap=\"viridis\", ax=ax)\n",
    "#plt.xlim(-70,60)\n",
    "#plt.ylim(-15,20)\n",
    "plt.xlabel(\"PC1 (Å)\")\n",
    "plt.ylabel(\"PC2 (Å)\")\n",
    "cmap = plt.get_cmap(\"autumn\")\n",
    "\n",
    "skip=10\n",
    "skip_cycle=1\n",
    "for i in range(len(timeseries)):\n",
    "    if i%skip_cycle ==0:\n",
    "        ax.plot(timeseries[i][::skip,0], timeseries[i][::skip,1],color=cmap(i/len(timeseries)),marker='.', linewidth=1, markersize=5)\n",
    "\n",
    "d_cmap = cm.get_cmap(\"autumn\",cycle+2)\n",
    "dis_cmap = ListedColormap([rgb2hex(d_cmap(i)[:3]) for i in range(d_cmap.N)])\n",
    "bounds = [i/(cycle+1) for i in range(0,cycle+2,1)]\n",
    "norm = BoundaryNorm(bounds,dis_cmap.N)\n",
    "cbar = fig.colorbar(cm.ScalarMappable(norm=None, cmap=dis_cmap), ax=plt.gca(), boundaries= bounds, ticks=[((i/(cycle+1))+0.05)-0.1 for i in range(0,cycle+2,2)], drawedges=True)\n",
    "\n",
    "cbar.ax.set_ylim(0,1)\n",
    "cbar.ax.set_yticklabels([i for i in range(0,cycle,2)])\n",
    "cbar.ax.set_ylabel(\"Cycle\")\n",
    "\n",
    "#plt.plot(current[:,0], current[:,1],color='orange',marker='.', linewidth=0.5, markersize=2)\n",
    "for (pc1, pc2, label) in zip(current[:,0],current[:,1], range(len(current[:,0]))):\n",
    "        if label%1 ==0:\n",
    "            #txt = plt.annotate(label, xy=(pc1, pc2))\n",
    "            #txt.set_path_effects([PathEffects.withStroke(linewidth=3, foreground='w')])\n",
    "            #plt.plot(pc1,pc2,color='blue',marker='.', linewidth=0.5, markersize=5)\n",
    "            pass\n",
    "\n",
    "plt.tight_layout()\n",
    "plt.savefig(\"String_transition.png\", dpi=300)"
   ]
  },
  {
   "cell_type": "markdown",
   "metadata": {},
   "source": [
    "# Show MFEP（skip=10）"
   ]
  },
  {
   "cell_type": "code",
   "execution_count": null,
   "metadata": {},
   "outputs": [],
   "source": [
    "fig = plt.figure(figsize=(6,4))\n",
    "ax = plt.subplot()\n",
    "mplt.plot_free_energy(xall, yall, weights=W, levels=100,cmap=\"viridis\", linewidth=0,ax=ax)\n",
    "#mplt.plot_free_energy(xall, yall, weights=W, levels=100,cmap=\"jet_r\", ax=ax)\n",
    "#plt.xlim(-70,60)\n",
    "#plt.ylim(-15,20)\n",
    "plt.xlabel(\"PC1 (Å)\")\n",
    "plt.ylabel(\"PC2 (Å)\")\n",
    "cmap = plt.get_cmap(\"autumn\")\n",
    "\n",
    "skip=10\n",
    "ax.plot(timeseries[-1][::skip,0], timeseries[-1][::skip,1],color=cmap(1.0),marker='.', linewidth=2, markersize=10)\n",
    "#ax.plot(timeseries[-1][::skip,0], timeseries[-1][::skip,1],color=\"blue\",marker='.', linewidth=2, markersize=10)\n",
    "plt.tight_layout()\n",
    "plt.savefig(\"String_MFEP.png\", dpi=300)"
   ]
  },
  {
   "cell_type": "markdown",
   "metadata": {},
   "source": [
    "# Calculate free energy along the MFEP（mfep_bin = 100）"
   ]
  },
  {
   "cell_type": "code",
   "execution_count": null,
   "metadata": {
    "scrolled": true
   },
   "outputs": [],
   "source": [
    "mfep_bin = 100\n",
    "H = np.histogram2d(xall,yall, bins=mfep_bin, weights=W)\n",
    "datanumber = np.sum(H[0])\n",
    "with np.errstate(divide='ignore'):\n",
    "    logedH = -np.log(H[0].T/datanumber)\n",
    "minimalenagy = np.min(logedH)\n",
    "im = plt.imshow(logedH - minimalenagy, origin='lower', extent=[H[1][0], H[1][-1], H[2][0], H[2][-1]], cmap=\"viridis\",aspect=2.5)\n",
    "plt.plot(current[::skip,0], current[::skip,1],color=plt.get_cmap(\"autumn\")(1.0),marker='.', linewidth=2, markersize=10)\n"
   ]
  },
  {
   "cell_type": "code",
   "execution_count": null,
   "metadata": {
    "scrolled": false
   },
   "outputs": [],
   "source": [
    "current_energy = [0.0] * len(current)\n",
    "for i, c in enumerate(current):\n",
    "    x_index = 0\n",
    "    y_index = 0\n",
    "    for index, x_edge in enumerate(H[1]):\n",
    "        if c[0] < x_edge:\n",
    "            x_index = index-1\n",
    "            break\n",
    "    for index, y_edge in enumerate(H[2]):\n",
    "        if c[1] < y_edge:\n",
    "            y_index = index-1\n",
    "            break\n",
    "    current_energy[i] = (logedH[y_index, x_index] - minimalenagy)#*0.593 # for kcal/mol\n",
    "fig = plt.figure(figsize=(6,3))\n",
    "plt.plot(current_energy)\n",
    "plt.xlim(0, len(current))\n",
    "plt.xlabel(\"Beads No.\")\n",
    "plt.ylabel(\"Free energy / kT\")\n",
    "plt.tight_layout()\n",
    "plt.savefig(\"String_along_MFEP.png\", dpi=300)"
   ]
  },
  {
   "cell_type": "code",
   "execution_count": null,
   "metadata": {},
   "outputs": [],
   "source": []
  },
  {
   "cell_type": "markdown",
   "metadata": {},
   "source": [
    "The end of the notebook"
   ]
  }
 ],
 "metadata": {
  "kernelspec": {
   "display_name": "Python 3",
   "language": "python",
   "name": "python3"
  },
  "language_info": {
   "codemirror_mode": {
    "name": "ipython",
    "version": 3
   },
   "file_extension": ".py",
   "mimetype": "text/x-python",
   "name": "python",
   "nbconvert_exporter": "python",
   "pygments_lexer": "ipython3",
   "version": "3.7.8"
  }
 },
 "nbformat": 4,
 "nbformat_minor": 4
}
